{
  "cells": [
    {
      "cell_type": "raw",
      "metadata": {},
      "source": [
        "---\n",
        "title: \"Assignment #3\"\n",
        "subtitle: \"28 points\"\n",
        "title-block-banner: true\n",
        "author: \"Esteban Montenegro-Montenegro\"\n",
        "date: 2022-09-01\n",
        "format: html\n",
        "editor: visual\n",
        "self-contained: true\n",
        "bibliography: references.bib\n",
        "csl: apa.csl\n",
        "---"
      ],
      "id": "bdf08154"
    },
    {
      "cell_type": "markdown",
      "metadata": {},
      "source": [
        "In this assigment you'll have to answer questions based on the presentation \n",
        "*Introduction to Probability and Statistics*. Also, you may need\n",
        "to check the examples provided by @westfall2013understanding (Chapter 1).\n",
        "\n",
        "Please, provide your answers in a Word document with a cover page. \n",
        "\n",
        "\n",
        "\n",
        "\n",
        "\n",
        "## Relevant questions realated to NATURE\n",
        "\n",
        "\n",
        "Please answer the following questions, if you find yourself not understanding \n",
        "the question please send me an email or schedule  an appointment. My aim\n",
        "is to evaluate if I did a good job communicating the main points, in addition I aim\n",
        "to evaluate if you understood the content. \n",
        "\n",
        "\n",
        "1) Let's imagine that you need a model relating crime rate in a \"typical\" city to \n",
        "the poverty, then you came up with the next model:\n",
        "\n",
        "\n",
        "\n",
        "```{tex}\n",
        "\n",
        "\\begin{equation}\n",
        "CrimeRate = 60+5*Poverty\n",
        "\n",
        "\\end{equation}\n",
        "\n",
        "\n",
        "```"
      ],
      "id": "089c8208"
    }
  ],
  "metadata": {
    "kernelspec": {
      "display_name": "Python 3",
      "language": "python",
      "name": "python3"
    }
  },
  "nbformat": 4,
  "nbformat_minor": 5
}